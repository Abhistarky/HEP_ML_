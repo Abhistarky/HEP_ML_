{
  "nbformat": 4,
  "nbformat_minor": 0,
  "metadata": {
    "colab": {
      "name": "CNN 1_D for jett constituents .ipynb",
      "provenance": []
    },
    "kernelspec": {
      "name": "python3",
      "display_name": "Python 3"
    },
    "language_info": {
      "name": "python"
    }
  },
  "cells": [
    {
      "cell_type": "code",
      "execution_count": null,
      "metadata": {
        "id": "SWuuUhFjZLgL"
      },
      "outputs": [],
      "source": [
        "import os\n",
        "import h5py\n",
        "import glob\n",
        "import numpy as np\n",
        "import matplotlib.pyplot as plt\n",
        "%matplotlib inline"
      ]
    },
    {
      "cell_type": "code",
      "source": [
        "! git clone https://github.com/pierinim/tutorials.git"
      ],
      "metadata": {
        "colab": {
          "base_uri": "https://localhost:8080/"
        },
        "id": "dsmT00dbENc-",
        "outputId": "322fd429-32f1-4792-b6f6-7dc4a4a83a62"
      },
      "execution_count": null,
      "outputs": [
        {
          "output_type": "stream",
          "name": "stdout",
          "text": [
            "fatal: destination path 'tutorials' already exists and is not an empty directory.\n"
          ]
        }
      ]
    },
    {
      "cell_type": "code",
      "source": [
        "inputDir = \"tutorials/Data/JetDataset\"\n",
        "! ls tutorials/Data/JetDataset/"
      ],
      "metadata": {
        "colab": {
          "base_uri": "https://localhost:8080/"
        },
        "id": "HUK211HwEVZd",
        "outputId": "8adff1c9-ad70-41a0-8986-0fcdd8412f23"
      },
      "execution_count": null,
      "outputs": [
        {
          "output_type": "stream",
          "name": "stdout",
          "text": [
            "jetImage_7_100p_0_10000.h5\tjetImage_7_100p_50000_60000.h5\n",
            "jetImage_7_100p_10000_20000.h5\tjetImage_7_100p_60000_70000.h5\n",
            "jetImage_7_100p_30000_40000.h5\tjetImage_7_100p_70000_80000.h5\n",
            "jetImage_7_100p_40000_50000.h5\tjetImage_7_100p_80000_90000.h5\n"
          ]
        }
      ]
    },
    {
      "cell_type": "code",
      "source": [
        "target = np.array([])\n",
        "jetList = np.array([])\n",
        "datafiles = ['%s/jetImage_7_100p_30000_40000.h5' %inputDir,\n",
        "           '%s/jetImage_7_100p_60000_70000.h5' %inputDir,\n",
        "            '%s/jetImage_7_100p_50000_60000.h5' %inputDir,\n",
        "            '%s/jetImage_7_100p_10000_20000.h5' %inputDir,\n",
        "            '%s/jetImage_7_100p_0_10000.h5' %inputDir]\n",
        "for i, fileIN in enumerate(datafiles):\n",
        "    f=h5py.File(fileIN)\n",
        "    if i == 0: print (f.get(\"particleFeatureNames\")[:])\n",
        "    print(\"Appending %s\" %fileIN)\n",
        "    myJetList = np.array(f.get(\"jetConstituentList\"))\n",
        "    mytarget = np.array (f.get(\"jets\")[0:, -6:-1])\n",
        "    jetList = np.concatenate([jetList, myJetList],axis = 0) if jetList.size else myJetList\n",
        "    target = np.concatenate([target, mytarget], axis =0) if target.size else mytarget\n",
        "    del myJetList, mytarget\n",
        "    f.close()\n",
        "print(target.shape, jetList.shape)    "
      ],
      "metadata": {
        "colab": {
          "base_uri": "https://localhost:8080/"
        },
        "id": "taaAY9_6Egum",
        "outputId": "5508757a-2911-45fa-beff-6babe30c6b0e"
      },
      "execution_count": null,
      "outputs": [
        {
          "output_type": "stream",
          "name": "stdout",
          "text": [
            "[b'j1_px' b'j1_py' b'j1_pz' b'j1_e' b'j1_erel' b'j1_pt' b'j1_ptrel'\n",
            " b'j1_eta' b'j1_etarel' b'j1_etarot' b'j1_phi' b'j1_phirel' b'j1_phirot'\n",
            " b'j1_deltaR' b'j1_costheta' b'j1_costhetarel' b'j1_pdgid']\n",
            "Appending tutorials/Data/JetDataset/jetImage_7_100p_30000_40000.h5\n",
            "Appending tutorials/Data/JetDataset/jetImage_7_100p_60000_70000.h5\n",
            "Appending tutorials/Data/JetDataset/jetImage_7_100p_50000_60000.h5\n",
            "Appending tutorials/Data/JetDataset/jetImage_7_100p_10000_20000.h5\n",
            "Appending tutorials/Data/JetDataset/jetImage_7_100p_0_10000.h5\n",
            "(50000, 5) (50000, 100, 16)\n"
          ]
        }
      ]
    },
    {
      "cell_type": "code",
      "source": [
        "_#The dataset consists of 50000 with up to 100 particles in each jet. For each particle, 16 features are given (see printout)"
      ],
      "metadata": {
        "id": "rzXSgfV_IHae"
      },
      "execution_count": null,
      "outputs": []
    },
    {
      "cell_type": "code",
      "source": [
        "from sklearn.model_selection import train_test_split\n",
        "X_train, X_val, Y_train, Y_val = train_test_split(jetList, target, test_size=0.33)\n",
        "print(X_train.shape, Y_train.shape, X_val.shape, Y_val.shape)\n",
        "del jetList, target"
      ],
      "metadata": {
        "colab": {
          "base_uri": "https://localhost:8080/"
        },
        "id": "LssSnH5wILwY",
        "outputId": "4d55f64c-870c-4c8e-b4ec-3f5f2dcc8e43"
      },
      "execution_count": null,
      "outputs": [
        {
          "output_type": "stream",
          "name": "stdout",
          "text": [
            "(33500, 100, 16) (33500, 5) (16500, 100, 16) (16500, 5)\n"
          ]
        }
      ]
    },
    {
      "cell_type": "code",
      "source": [
        "from tensorflow.keras.models import Model\n",
        "from tensorflow.keras.layers import Dense, Input, Conv1D, AveragePooling1D, Dropout, Flatten\n",
        "from tensorflow.keras.utils import plot_model\n",
        "from tensorflow.keras import backend as K\n",
        "from tensorflow.keras import metrics\n",
        "from tensorflow.keras.callbacks import EarlyStopping, ReduceLROnPlateau, TerminateOnNaN"
      ],
      "metadata": {
        "id": "sgnd-cbrJLU2"
      },
      "execution_count": null,
      "outputs": []
    },
    {
      "cell_type": "code",
      "source": [
        "featureArrayLength = (X_train.shape[1],X_train.shape[2])\n",
        "dropoutRate = 0.25"
      ],
      "metadata": {
        "id": "Rvu5RUYsJdVU"
      },
      "execution_count": null,
      "outputs": []
    },
    {
      "cell_type": "code",
      "source": [
        "inputList = Input(shape=(featureArrayLength))\n",
        "x = Conv1D(20, kernel_size=3, data_format=\"channels_last\", strides=1, padding=\"valid\", activation='relu')(inputList)\n",
        "x = AveragePooling1D(pool_size=3)(x)\n",
        "#\n",
        "x = Conv1D(40, kernel_size=3, data_format=\"channels_last\", strides=1, padding=\"valid\", activation='relu')(x)\n",
        "x = AveragePooling1D(pool_size=3)(x)\n",
        "#\n",
        "x = Conv1D(60, kernel_size=2, data_format=\"channels_last\", strides=1, padding=\"valid\", activation='relu')(x)\n",
        "x = AveragePooling1D(pool_size=9)(x)\n",
        "#\n",
        "x = Flatten()(x)\n",
        "x = Dense(20, activation='relu')(x)\n",
        "x = Dropout(dropoutRate)(x)\n",
        "x = Dense(10, activation='relu')(x)\n",
        "x = Dropout(dropoutRate)(x)\n",
        "output = Dense(5, activation='softmax')(x)\n",
        "####\n",
        "model = Model(inputs=inputList, outputs=output)"
      ],
      "metadata": {
        "id": "t-Lm44yzJgak"
      },
      "execution_count": null,
      "outputs": []
    },
    {
      "cell_type": "code",
      "source": [
        "model.compile(loss='categorical_crossentropy', optimizer='adam')\n",
        "model.summary()"
      ],
      "metadata": {
        "colab": {
          "base_uri": "https://localhost:8080/"
        },
        "id": "rrwulXrVJlec",
        "outputId": "e8eb30e5-38a0-452d-e6ea-88e31b9dfe25"
      },
      "execution_count": null,
      "outputs": [
        {
          "output_type": "stream",
          "name": "stdout",
          "text": [
            "Model: \"model\"\n",
            "_________________________________________________________________\n",
            " Layer (type)                Output Shape              Param #   \n",
            "=================================================================\n",
            " input_1 (InputLayer)        [(None, 100, 16)]         0         \n",
            "                                                                 \n",
            " conv1d (Conv1D)             (None, 98, 20)            980       \n",
            "                                                                 \n",
            " average_pooling1d (AverageP  (None, 32, 20)           0         \n",
            " ooling1D)                                                       \n",
            "                                                                 \n",
            " conv1d_1 (Conv1D)           (None, 30, 40)            2440      \n",
            "                                                                 \n",
            " average_pooling1d_1 (Averag  (None, 10, 40)           0         \n",
            " ePooling1D)                                                     \n",
            "                                                                 \n",
            " conv1d_2 (Conv1D)           (None, 9, 60)             4860      \n",
            "                                                                 \n",
            " average_pooling1d_2 (Averag  (None, 1, 60)            0         \n",
            " ePooling1D)                                                     \n",
            "                                                                 \n",
            " flatten (Flatten)           (None, 60)                0         \n",
            "                                                                 \n",
            " dense (Dense)               (None, 20)                1220      \n",
            "                                                                 \n",
            " dropout (Dropout)           (None, 20)                0         \n",
            "                                                                 \n",
            " dense_1 (Dense)             (None, 10)                210       \n",
            "                                                                 \n",
            " dropout_1 (Dropout)         (None, 10)                0         \n",
            "                                                                 \n",
            " dense_2 (Dense)             (None, 5)                 55        \n",
            "                                                                 \n",
            "=================================================================\n",
            "Total params: 9,765\n",
            "Trainable params: 9,765\n",
            "Non-trainable params: 0\n",
            "_________________________________________________________________\n"
          ]
        }
      ]
    },
    {
      "cell_type": "code",
      "source": [
        "batch_size = 128\n",
        "n_epochs = 200"
      ],
      "metadata": {
        "id": "aPrY9w6kJnE0"
      },
      "execution_count": null,
      "outputs": []
    },
    {
      "cell_type": "code",
      "source": [
        "# train \n",
        "history = model.fit(X_train, Y_train, epochs=n_epochs, batch_size=batch_size, verbose = 2,\n",
        "                validation_data=(X_val, Y_val),\n",
        "                callbacks = [\n",
        "                EarlyStopping(monitor='val_loss', patience=10, verbose=1),\n",
        "                ReduceLROnPlateau(monitor='val_loss', factor=0.1, patience=2, verbose=1),\n",
        "                TerminateOnNaN()])"
      ],
      "metadata": {
        "colab": {
          "base_uri": "https://localhost:8080/"
        },
        "id": "DN9ppgAbJ6yu",
        "outputId": "a74bb51b-3099-42e6-ff4b-c4f1df44e1b9"
      },
      "execution_count": null,
      "outputs": [
        {
          "output_type": "stream",
          "name": "stdout",
          "text": [
            "Epoch 1/200\n",
            "262/262 - 5s - loss: 1.5098 - val_loss: 1.3897 - lr: 0.0010 - 5s/epoch - 21ms/step\n",
            "Epoch 2/200\n",
            "262/262 - 4s - loss: 1.3884 - val_loss: 1.3095 - lr: 0.0010 - 4s/epoch - 17ms/step\n",
            "Epoch 3/200\n",
            "262/262 - 4s - loss: 1.3307 - val_loss: 1.2691 - lr: 0.0010 - 4s/epoch - 15ms/step\n",
            "Epoch 4/200\n",
            "262/262 - 4s - loss: 1.3067 - val_loss: 1.2420 - lr: 0.0010 - 4s/epoch - 17ms/step\n",
            "Epoch 5/200\n",
            "262/262 - 5s - loss: 1.2808 - val_loss: 1.2205 - lr: 0.0010 - 5s/epoch - 19ms/step\n",
            "Epoch 6/200\n",
            "262/262 - 9s - loss: 1.2562 - val_loss: 1.1822 - lr: 0.0010 - 9s/epoch - 34ms/step\n",
            "Epoch 7/200\n",
            "262/262 - 9s - loss: 1.2313 - val_loss: 1.1509 - lr: 0.0010 - 9s/epoch - 36ms/step\n",
            "Epoch 8/200\n",
            "262/262 - 7s - loss: 1.1984 - val_loss: 1.0985 - lr: 0.0010 - 7s/epoch - 26ms/step\n",
            "Epoch 9/200\n",
            "262/262 - 6s - loss: 1.1626 - val_loss: 1.0624 - lr: 0.0010 - 6s/epoch - 22ms/step\n",
            "Epoch 10/200\n",
            "262/262 - 4s - loss: 1.1330 - val_loss: 1.0361 - lr: 0.0010 - 4s/epoch - 14ms/step\n",
            "Epoch 11/200\n",
            "262/262 - 4s - loss: 1.1213 - val_loss: 1.0016 - lr: 0.0010 - 4s/epoch - 14ms/step\n",
            "Epoch 12/200\n",
            "262/262 - 4s - loss: 1.0938 - val_loss: 1.0132 - lr: 0.0010 - 4s/epoch - 14ms/step\n",
            "Epoch 13/200\n",
            "\n",
            "Epoch 13: ReduceLROnPlateau reducing learning rate to 0.00010000000474974513.\n",
            "262/262 - 4s - loss: 1.0815 - val_loss: 1.0113 - lr: 0.0010 - 4s/epoch - 14ms/step\n",
            "Epoch 14/200\n",
            "262/262 - 4s - loss: 1.0412 - val_loss: 0.9567 - lr: 1.0000e-04 - 4s/epoch - 14ms/step\n",
            "Epoch 15/200\n",
            "262/262 - 4s - loss: 1.0388 - val_loss: 0.9520 - lr: 1.0000e-04 - 4s/epoch - 14ms/step\n",
            "Epoch 16/200\n",
            "262/262 - 4s - loss: 1.0321 - val_loss: 0.9543 - lr: 1.0000e-04 - 4s/epoch - 14ms/step\n",
            "Epoch 17/200\n",
            "262/262 - 4s - loss: 1.0263 - val_loss: 0.9462 - lr: 1.0000e-04 - 4s/epoch - 14ms/step\n",
            "Epoch 18/200\n",
            "262/262 - 4s - loss: 1.0289 - val_loss: 0.9445 - lr: 1.0000e-04 - 4s/epoch - 14ms/step\n",
            "Epoch 19/200\n",
            "262/262 - 4s - loss: 1.0254 - val_loss: 0.9445 - lr: 1.0000e-04 - 4s/epoch - 14ms/step\n",
            "Epoch 20/200\n",
            "262/262 - 4s - loss: 1.0249 - val_loss: 0.9410 - lr: 1.0000e-04 - 4s/epoch - 14ms/step\n",
            "Epoch 21/200\n",
            "262/262 - 4s - loss: 1.0221 - val_loss: 0.9404 - lr: 1.0000e-04 - 4s/epoch - 14ms/step\n",
            "Epoch 22/200\n",
            "262/262 - 4s - loss: 1.0186 - val_loss: 0.9406 - lr: 1.0000e-04 - 4s/epoch - 14ms/step\n",
            "Epoch 23/200\n",
            "262/262 - 4s - loss: 1.0235 - val_loss: 0.9383 - lr: 1.0000e-04 - 4s/epoch - 14ms/step\n",
            "Epoch 24/200\n",
            "262/262 - 4s - loss: 1.0190 - val_loss: 0.9399 - lr: 1.0000e-04 - 4s/epoch - 14ms/step\n",
            "Epoch 25/200\n",
            "262/262 - 4s - loss: 1.0175 - val_loss: 0.9359 - lr: 1.0000e-04 - 4s/epoch - 14ms/step\n",
            "Epoch 26/200\n",
            "262/262 - 4s - loss: 1.0120 - val_loss: 0.9322 - lr: 1.0000e-04 - 4s/epoch - 14ms/step\n",
            "Epoch 27/200\n",
            "262/262 - 4s - loss: 1.0126 - val_loss: 0.9319 - lr: 1.0000e-04 - 4s/epoch - 14ms/step\n",
            "Epoch 28/200\n",
            "262/262 - 4s - loss: 1.0129 - val_loss: 0.9335 - lr: 1.0000e-04 - 4s/epoch - 14ms/step\n",
            "Epoch 29/200\n",
            "262/262 - 4s - loss: 1.0074 - val_loss: 0.9312 - lr: 1.0000e-04 - 4s/epoch - 16ms/step\n",
            "Epoch 30/200\n",
            "262/262 - 5s - loss: 1.0085 - val_loss: 0.9272 - lr: 1.0000e-04 - 5s/epoch - 18ms/step\n",
            "Epoch 31/200\n",
            "262/262 - 4s - loss: 1.0051 - val_loss: 0.9292 - lr: 1.0000e-04 - 4s/epoch - 16ms/step\n",
            "Epoch 32/200\n",
            "\n",
            "Epoch 32: ReduceLROnPlateau reducing learning rate to 1.0000000474974514e-05.\n",
            "262/262 - 4s - loss: 1.0076 - val_loss: 0.9277 - lr: 1.0000e-04 - 4s/epoch - 14ms/step\n",
            "Epoch 33/200\n",
            "262/262 - 4s - loss: 1.0052 - val_loss: 0.9254 - lr: 1.0000e-05 - 4s/epoch - 14ms/step\n",
            "Epoch 34/200\n",
            "262/262 - 4s - loss: 1.0030 - val_loss: 0.9259 - lr: 1.0000e-05 - 4s/epoch - 14ms/step\n",
            "Epoch 35/200\n",
            "262/262 - 4s - loss: 0.9991 - val_loss: 0.9249 - lr: 1.0000e-05 - 4s/epoch - 14ms/step\n",
            "Epoch 36/200\n",
            "262/262 - 4s - loss: 0.9976 - val_loss: 0.9247 - lr: 1.0000e-05 - 4s/epoch - 14ms/step\n",
            "Epoch 37/200\n",
            "262/262 - 4s - loss: 0.9995 - val_loss: 0.9249 - lr: 1.0000e-05 - 4s/epoch - 14ms/step\n",
            "Epoch 38/200\n",
            "262/262 - 4s - loss: 1.0002 - val_loss: 0.9245 - lr: 1.0000e-05 - 4s/epoch - 14ms/step\n",
            "Epoch 39/200\n",
            "262/262 - 4s - loss: 1.0045 - val_loss: 0.9244 - lr: 1.0000e-05 - 4s/epoch - 14ms/step\n",
            "Epoch 40/200\n",
            "\n",
            "Epoch 40: ReduceLROnPlateau reducing learning rate to 1.0000000656873453e-06.\n",
            "262/262 - 4s - loss: 1.0030 - val_loss: 0.9248 - lr: 1.0000e-05 - 4s/epoch - 15ms/step\n",
            "Epoch 41/200\n",
            "262/262 - 4s - loss: 1.0024 - val_loss: 0.9246 - lr: 1.0000e-06 - 4s/epoch - 14ms/step\n",
            "Epoch 42/200\n",
            "\n",
            "Epoch 42: ReduceLROnPlateau reducing learning rate to 1.0000001111620805e-07.\n",
            "262/262 - 4s - loss: 1.0010 - val_loss: 0.9244 - lr: 1.0000e-06 - 4s/epoch - 15ms/step\n",
            "Epoch 43/200\n",
            "262/262 - 4s - loss: 0.9978 - val_loss: 0.9244 - lr: 1.0000e-07 - 4s/epoch - 15ms/step\n",
            "Epoch 44/200\n",
            "\n",
            "Epoch 44: ReduceLROnPlateau reducing learning rate to 1.000000082740371e-08.\n",
            "262/262 - 4s - loss: 1.0004 - val_loss: 0.9244 - lr: 1.0000e-07 - 4s/epoch - 15ms/step\n",
            "Epoch 45/200\n",
            "262/262 - 4s - loss: 1.0015 - val_loss: 0.9244 - lr: 1.0000e-08 - 4s/epoch - 15ms/step\n",
            "Epoch 46/200\n",
            "\n",
            "Epoch 46: ReduceLROnPlateau reducing learning rate to 1.000000082740371e-09.\n",
            "262/262 - 4s - loss: 0.9983 - val_loss: 0.9244 - lr: 1.0000e-08 - 4s/epoch - 15ms/step\n",
            "Epoch 47/200\n",
            "262/262 - 4s - loss: 0.9991 - val_loss: 0.9244 - lr: 1.0000e-09 - 4s/epoch - 15ms/step\n",
            "Epoch 48/200\n",
            "\n",
            "Epoch 48: ReduceLROnPlateau reducing learning rate to 1.000000082740371e-10.\n",
            "262/262 - 4s - loss: 0.9996 - val_loss: 0.9244 - lr: 1.0000e-09 - 4s/epoch - 15ms/step\n",
            "Epoch 49/200\n",
            "262/262 - 4s - loss: 1.0030 - val_loss: 0.9244 - lr: 1.0000e-10 - 4s/epoch - 15ms/step\n",
            "Epoch 49: early stopping\n"
          ]
        }
      ]
    },
    {
      "cell_type": "code",
      "source": [
        "# plot training history\n",
        "plt.plot(history.history['loss'])\n",
        "plt.plot(history.history['val_loss'])\n",
        "plt.yscale('log')\n",
        "plt.title('Training History')\n",
        "plt.ylabel('loss')\n",
        "plt.xlabel('epoch')\n",
        "plt.legend(['training', 'validation'], loc='upper right')\n",
        "plt.show()"
      ],
      "metadata": {
        "colab": {
          "base_uri": "https://localhost:8080/",
          "height": 295
        },
        "id": "weDopIJiJ8VF",
        "outputId": "cd3f8759-96b5-4691-e9dc-6379368b2e56"
      },
      "execution_count": null,
      "outputs": [
        {
          "output_type": "display_data",
          "data": {
            "text/plain": [
              "<Figure size 432x288 with 1 Axes>"
            ],
            "image/png": "[encoded data removed]"
          },
          "metadata": {
            "needs_background": "light"
          }
        }
      ]
    },
    {
      "cell_type": "code",
      "source": [
        "labels = ['gluon', 'quark', 'W', 'Z', 'top']"
      ],
      "metadata": {
        "id": "k7vHDAPpKDok"
      },
      "execution_count": null,
      "outputs": []
    },
    {
      "cell_type": "code",
      "source": [
        "import pandas as pd\n",
        "from sklearn.metrics import roc_curve, auc\n",
        "predict_val = model.predict(X_val)\n",
        "df = pd.DataFrame()\n",
        "fpr = {}\n",
        "tpr = {}\n",
        "auc1 = {}\n",
        "\n",
        "plt.figure()\n",
        "for i, label in enumerate(labels):\n",
        "        df[label] = Y_val[:,i]\n",
        "        df[label + '_pred'] = predict_val[:,i]\n",
        "\n",
        "        fpr[label], tpr[label], threshold = roc_curve(df[label],df[label+'_pred'])\n",
        "\n",
        "        auc1[label] = auc(fpr[label], tpr[label])\n",
        "\n",
        "        plt.plot(tpr[label],fpr[label],label='%s tagger, auc = %.1f%%'%(label,auc1[label]*100.))\n",
        "plt.semilogy()\n",
        "plt.xlabel(\"true positive rate\")\n",
        "plt.ylabel(\"false positive rate\")\n",
        "plt.ylim(0.000001,1)\n",
        "plt.grid(True)\n",
        "plt.legend(loc='lower right')\n",
        "plt.show()"
      ],
      "metadata": {
        "colab": {
          "base_uri": "https://localhost:8080/",
          "height": 285
        },
        "id": "p4jGzTxbKFgN",
        "outputId": "e3885838-b2a9-4635-e708-e8b8b6f8c623"
      },
      "execution_count": null,
      "outputs": [
        {
          "output_type": "display_data",
          "data": {
            "text/plain": [
              "<Figure size 432x288 with 1 Axes>"
            ],
            "image/png": "[encoded data removed]"
          },
          "metadata": {
            "needs_background": "light"
          }
        }
      ]
    },
    {
      "cell_type": "code",
      "source": [
        ""
      ],
      "metadata": {
        "id": "25pzK1kGKGv2"
      },
      "execution_count": null,
      "outputs": []
    }
  ]
}