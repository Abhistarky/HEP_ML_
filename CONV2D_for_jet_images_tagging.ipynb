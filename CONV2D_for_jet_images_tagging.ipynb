{
  "nbformat": 4,
  "nbformat_minor": 0,
  "metadata": {
    "colab": {
      "name": "CONV2D for jet images.ipynb",
      "provenance": []
    },
    "kernelspec": {
      "name": "python3",
      "display_name": "Python 3"
    },
    "language_info": {
      "name": "python"
    }
  },
  "cells": [
    {
      "cell_type": "code",
      "execution_count": null,
      "metadata": {
        "id": "l_-UwvVTAlcn"
      },
      "outputs": [],
      "source": [
        "#importing the Libraries\n",
        "import os\n",
        "import h5py\n",
        "import glob\n",
        "import numpy as np\n",
        "import matplotlib.pyplot as plt\n",
        "%matplotlib inline"
      ]
    },
    {
      "cell_type": "code",
      "source": [
        "#preparation of samples for training and validation\n",
        "#so the dataset is imported from the git of another person who owns this dataset.(Maurizio Pierinim)"
      ],
      "metadata": {
        "id": "eHOZFsOUhJx2"
      },
      "execution_count": null,
      "outputs": []
    },
    {
      "cell_type": "code",
      "source": [
        "! git clone https://github.com/pierinim/tutorials.git\n",
        "! ls tutorials/Data/JetDataset/"
      ],
      "metadata": {
        "colab": {
          "base_uri": "https://localhost:8080/"
        },
        "id": "CTVv9vERilaw",
        "outputId": "9526da2f-a10d-44aa-e31e-1a281e656863"
      },
      "execution_count": null,
      "outputs": [
        {
          "output_type": "stream",
          "name": "stdout",
          "text": [
            "Cloning into 'tutorials'...\n",
            "remote: Enumerating objects: 690, done.\u001b[K\n",
            "remote: Counting objects: 100% (111/111), done.\u001b[K\n",
            "remote: Compressing objects: 100% (76/76), done.\u001b[K\n",
            "remote: Total 690 (delta 51), reused 92 (delta 32), pack-reused 579\u001b[K\n",
            "Receiving objects: 100% (690/690), 565.84 MiB | 28.14 MiB/s, done.\n",
            "Resolving deltas: 100% (253/253), done.\n",
            "Checking out files: 100% (75/75), done.\n",
            "jetImage_7_100p_0_10000.h5\tjetImage_7_100p_50000_60000.h5\n",
            "jetImage_7_100p_10000_20000.h5\tjetImage_7_100p_60000_70000.h5\n",
            "jetImage_7_100p_30000_40000.h5\tjetImage_7_100p_70000_80000.h5\n",
            "jetImage_7_100p_40000_50000.h5\tjetImage_7_100p_80000_90000.h5\n"
          ]
        }
      ]
    },
    {
      "cell_type": "markdown",
      "source": [
        "Since we will be using convolutional Neural Network, we will us jet Images for training the model.\n"
      ],
      "metadata": {
        "id": "m5On0ugQiqst"
      }
    },
    {
      "cell_type": "code",
      "source": [
        "target = np.array([])\n",
        "jetImage = np.array([])\n",
        "# we cannot load all data on Colab. So we just take a few files\n",
        "datafiles = ['tutorials/Data/JetDataset/jetImage_7_100p_30000_40000.h5',\n",
        "           'tutorials/Data/JetDataset/jetImage_7_100p_60000_70000.h5',\n",
        "            'tutorials/Data/JetDataset/jetImage_7_100p_50000_60000.h5',\n",
        "            'tutorials/Data/JetDataset/jetImage_7_100p_10000_20000.h5',\n",
        "            'tutorials/Data/JetDataset/jetImage_7_100p_0_10000.h5']\n",
        "# if you are running locallt, you can use the full dataset doing\n",
        "# for fileIN in glob.glob(\"tutorials/HiggsSchool/data/*h5\"):\n",
        "for fileIN in datafiles:\n",
        "    print(\"Appending %s\" %fileIN)\n",
        "    f = h5py.File(fileIN)\n",
        "    myjetImage = np.array(f.get(\"jetImage\"))\n",
        "    mytarget = np.array(f.get('jets')[0:,-6:-1])\n",
        "    jetImage = np.concatenate([jetImage, myjetImage], axis=0) if jetImage.size else myjetImage\n",
        "    target = np.concatenate([target, mytarget], axis=0) if target.size else mytarget\n",
        "    f.close()\n",
        "print(target.shape, jetImage.shape)"
      ],
      "metadata": {
        "colab": {
          "base_uri": "https://localhost:8080/"
        },
        "id": "IdEFyptpiowm",
        "outputId": "fe4e3c9e-c4ad-4700-929c-b1536839c67d"
      },
      "execution_count": null,
      "outputs": [
        {
          "output_type": "stream",
          "name": "stdout",
          "text": [
            "Appending tutorials/Data/JetDataset/jetImage_7_100p_30000_40000.h5\n",
            "Appending tutorials/Data/JetDataset/jetImage_7_100p_60000_70000.h5\n",
            "Appending tutorials/Data/JetDataset/jetImage_7_100p_50000_60000.h5\n",
            "Appending tutorials/Data/JetDataset/jetImage_7_100p_10000_20000.h5\n",
            "Appending tutorials/Data/JetDataset/jetImage_7_100p_0_10000.h5\n",
            "(50000, 5) (50000, 100, 100)\n"
          ]
        }
      ]
    },
    {
      "cell_type": "code",
      "source": [
        "from sklearn.model_selection import train_test_split\n",
        "X_train, X_val, y_train, y_val = train_test_split(jetImage, target, test_size=0.33)\n",
        "print(X_train.shape, X_val.shape, y_train.shape, y_val.shape)\n",
        "del jetImage, target"
      ],
      "metadata": {
        "colab": {
          "base_uri": "https://localhost:8080/"
        },
        "id": "Dh1p93aolB51",
        "outputId": "775933a8-cf58-4de5-c996-a1302b6a00e5"
      },
      "execution_count": null,
      "outputs": [
        {
          "output_type": "stream",
          "name": "stdout",
          "text": [
            "(33500, 100, 100) (16500, 100, 100) (33500, 5) (16500, 5)\n"
          ]
        }
      ]
    },
    {
      "cell_type": "markdown",
      "source": [
        "CONV 2d MODEL BUILDING"
      ],
      "metadata": {
        "id": "6ZOEXo0dlGPI"
      }
    },
    {
      "cell_type": "code",
      "source": [
        "# keras imports\n",
        "from tensorflow.keras.models import Model\n",
        "from tensorflow.keras.layers import Dense, Input, Conv2D, Dropout, Flatten\n",
        "from tensorflow.keras.layers import MaxPooling2D, BatchNormalization, Activation\n",
        "from tensorflow.keras.utils import plot_model\n",
        "from tensorflow.keras import backend as K\n",
        "from tensorflow.keras import metrics\n",
        "from tensorflow.keras.callbacks import EarlyStopping, ReduceLROnPlateau, TerminateOnNaN"
      ],
      "metadata": {
        "id": "ki3Yw1K3lJom"
      },
      "execution_count": null,
      "outputs": []
    },
    {
      "cell_type": "code",
      "source": [
        "img_rows = X_train.shape[1]\n",
        "img_cols = X_train.shape[2]\n",
        "dropoutRate = 0.25"
      ],
      "metadata": {
        "id": "UbuUju95lOFe"
      },
      "execution_count": null,
      "outputs": []
    },
    {
      "cell_type": "code",
      "source": [
        "image_shape = (img_rows, img_cols, 1)\n",
        "####\n",
        "inputImage = Input(shape=(image_shape))\n",
        "x = Conv2D(5, kernel_size=(5,5), data_format=\"channels_last\", strides=(1, 1), padding=\"same\")(inputImage)\n",
        "x = BatchNormalization()(x)\n",
        "x = Activation('relu')(x)\n",
        "x = MaxPooling2D( pool_size = (5,5))(x)\n",
        "x = Dropout(dropoutRate)(x)\n",
        "#\n",
        "x = Conv2D(3, kernel_size=(3,3), data_format=\"channels_last\", strides=(1, 1), padding=\"same\")(x)\n",
        "x = BatchNormalization()(x)\n",
        "x = Activation('relu')(x)\n",
        "x = MaxPooling2D( pool_size = (3,3))(x)\n",
        "x = Dropout(dropoutRate)(x)\n",
        "#\n",
        "x = Flatten()(x)\n",
        "#\n",
        "x = Dense(5, activation='relu')(x)\n",
        "#\n",
        "output = Dense(5, activation='softmax')(x)\n",
        "####\n",
        "model = Model(inputs=inputImage, outputs=output)"
      ],
      "metadata": {
        "id": "Qo71mVx0lQ62"
      },
      "execution_count": null,
      "outputs": []
    },
    {
      "cell_type": "code",
      "source": [
        "model.compile(loss='categorical_crossentropy', optimizer='adam')\n",
        "model.summary()"
      ],
      "metadata": {
        "colab": {
          "base_uri": "https://localhost:8080/"
        },
        "id": "jvrZpi--lTEt",
        "outputId": "e05782d9-0580-465a-e970-7e388fd99630"
      },
      "execution_count": null,
      "outputs": [
        {
          "output_type": "stream",
          "name": "stdout",
          "text": [
            "Model: \"model\"\n",
            "_________________________________________________________________\n",
            " Layer (type)                Output Shape              Param #   \n",
            "=================================================================\n",
            " input_1 (InputLayer)        [(None, 100, 100, 1)]     0         \n",
            "                                                                 \n",
            " conv2d (Conv2D)             (None, 100, 100, 5)       130       \n",
            "                                                                 \n",
            " batch_normalization (BatchN  (None, 100, 100, 5)      20        \n",
            " ormalization)                                                   \n",
            "                                                                 \n",
            " activation (Activation)     (None, 100, 100, 5)       0         \n",
            "                                                                 \n",
            " max_pooling2d (MaxPooling2D  (None, 20, 20, 5)        0         \n",
            " )                                                               \n",
            "                                                                 \n",
            " dropout (Dropout)           (None, 20, 20, 5)         0         \n",
            "                                                                 \n",
            " conv2d_1 (Conv2D)           (None, 20, 20, 3)         138       \n",
            "                                                                 \n",
            " batch_normalization_1 (Batc  (None, 20, 20, 3)        12        \n",
            " hNormalization)                                                 \n",
            "                                                                 \n",
            " activation_1 (Activation)   (None, 20, 20, 3)         0         \n",
            "                                                                 \n",
            " max_pooling2d_1 (MaxPooling  (None, 6, 6, 3)          0         \n",
            " 2D)                                                             \n",
            "                                                                 \n",
            " dropout_1 (Dropout)         (None, 6, 6, 3)           0         \n",
            "                                                                 \n",
            " flatten (Flatten)           (None, 108)               0         \n",
            "                                                                 \n",
            " dense (Dense)               (None, 5)                 545       \n",
            "                                                                 \n",
            " dense_1 (Dense)             (None, 5)                 30        \n",
            "                                                                 \n",
            "=================================================================\n",
            "Total params: 875\n",
            "Trainable params: 859\n",
            "Non-trainable params: 16\n",
            "_________________________________________________________________\n"
          ]
        }
      ]
    },
    {
      "cell_type": "code",
      "source": [
        "batch_size = 128\n",
        "n_epochs = 200\n",
        "# train \n",
        "history = model.fit(X_train, y_train, epochs=n_epochs, batch_size=batch_size, verbose = 2,\n",
        "                validation_data=(X_val, y_val),\n",
        "                callbacks = [\n",
        "                EarlyStopping(monitor='val_loss', patience=10, verbose=1),\n",
        "                ReduceLROnPlateau(monitor='val_loss', factor=0.1, patience=2, verbose=1),\n",
        "                TerminateOnNaN()])"
      ],
      "metadata": {
        "colab": {
          "base_uri": "https://localhost:8080/"
        },
        "id": "xSwnB-4LlUi1",
        "outputId": "b3f899c6-340e-45a4-f0c2-a8273eec38dc"
      },
      "execution_count": null,
      "outputs": [
        {
          "output_type": "stream",
          "name": "stdout",
          "text": [
            "Epoch 1/200\n",
            "262/262 - 263s - loss: 1.6481 - val_loss: 1.5344 - lr: 0.0010 - 263s/epoch - 1s/step\n",
            "Epoch 2/200\n",
            "262/262 - 190s - loss: 1.5373 - val_loss: 1.4749 - lr: 0.0010 - 190s/epoch - 725ms/step\n",
            "Epoch 3/200\n",
            "262/262 - 185s - loss: 1.4833 - val_loss: 1.4296 - lr: 0.0010 - 185s/epoch - 705ms/step\n",
            "Epoch 4/200\n",
            "262/262 - 187s - loss: 1.4312 - val_loss: 1.3943 - lr: 0.0010 - 187s/epoch - 714ms/step\n",
            "Epoch 5/200\n",
            "262/262 - 263s - loss: 1.3919 - val_loss: 1.3463 - lr: 0.0010 - 263s/epoch - 1s/step\n",
            "Epoch 6/200\n",
            "262/262 - 182s - loss: 1.3640 - val_loss: 1.3162 - lr: 0.0010 - 182s/epoch - 696ms/step\n",
            "Epoch 7/200\n",
            "262/262 - 185s - loss: 1.3422 - val_loss: 1.2894 - lr: 0.0010 - 185s/epoch - 705ms/step\n",
            "Epoch 8/200\n",
            "262/262 - 182s - loss: 1.3227 - val_loss: 1.2708 - lr: 0.0010 - 182s/epoch - 696ms/step\n",
            "Epoch 9/200\n",
            "262/262 - 189s - loss: 1.3059 - val_loss: 1.2608 - lr: 0.0010 - 189s/epoch - 723ms/step\n",
            "Epoch 10/200\n",
            "262/262 - 183s - loss: 1.2965 - val_loss: 1.2418 - lr: 0.0010 - 183s/epoch - 700ms/step\n",
            "Epoch 11/200\n",
            "262/262 - 183s - loss: 1.2830 - val_loss: 1.2268 - lr: 0.0010 - 183s/epoch - 697ms/step\n",
            "Epoch 12/200\n",
            "262/262 - 182s - loss: 1.2723 - val_loss: 1.2149 - lr: 0.0010 - 182s/epoch - 694ms/step\n",
            "Epoch 13/200\n",
            "262/262 - 225s - loss: 1.2603 - val_loss: 1.2085 - lr: 0.0010 - 225s/epoch - 860ms/step\n",
            "Epoch 14/200\n",
            "262/262 - 183s - loss: 1.2588 - val_loss: 1.1999 - lr: 0.0010 - 183s/epoch - 699ms/step\n",
            "Epoch 15/200\n",
            "262/262 - 183s - loss: 1.2525 - val_loss: 1.1943 - lr: 0.0010 - 183s/epoch - 697ms/step\n",
            "Epoch 16/200\n",
            "262/262 - 233s - loss: 1.2422 - val_loss: 1.1854 - lr: 0.0010 - 233s/epoch - 889ms/step\n",
            "Epoch 17/200\n",
            "262/262 - 249s - loss: 1.2371 - val_loss: 1.1822 - lr: 0.0010 - 249s/epoch - 952ms/step\n",
            "Epoch 18/200\n",
            "262/262 - 183s - loss: 1.2333 - val_loss: 1.1722 - lr: 0.0010 - 183s/epoch - 699ms/step\n",
            "Epoch 19/200\n",
            "262/262 - 184s - loss: 1.2291 - val_loss: 1.1650 - lr: 0.0010 - 184s/epoch - 703ms/step\n",
            "Epoch 20/200\n",
            "262/262 - 184s - loss: 1.2253 - val_loss: 1.1602 - lr: 0.0010 - 184s/epoch - 703ms/step\n",
            "Epoch 21/200\n",
            "262/262 - 182s - loss: 1.2193 - val_loss: 1.1598 - lr: 0.0010 - 182s/epoch - 696ms/step\n",
            "Epoch 22/200\n",
            "262/262 - 183s - loss: 1.2190 - val_loss: 1.1543 - lr: 0.0010 - 183s/epoch - 699ms/step\n",
            "Epoch 23/200\n",
            "262/262 - 186s - loss: 1.2173 - val_loss: 1.1520 - lr: 0.0010 - 186s/epoch - 709ms/step\n",
            "Epoch 24/200\n",
            "262/262 - 196s - loss: 1.2133 - val_loss: 1.1529 - lr: 0.0010 - 196s/epoch - 746ms/step\n",
            "Epoch 25/200\n",
            "262/262 - 199s - loss: 1.2099 - val_loss: 1.1513 - lr: 0.0010 - 199s/epoch - 759ms/step\n",
            "Epoch 26/200\n",
            "262/262 - 182s - loss: 1.2027 - val_loss: 1.1475 - lr: 0.0010 - 182s/epoch - 694ms/step\n",
            "Epoch 27/200\n",
            "262/262 - 183s - loss: 1.2031 - val_loss: 1.1422 - lr: 0.0010 - 183s/epoch - 698ms/step\n",
            "Epoch 28/200\n",
            "262/262 - 190s - loss: 1.1995 - val_loss: 1.1420 - lr: 0.0010 - 190s/epoch - 726ms/step\n",
            "Epoch 29/200\n",
            "262/262 - 187s - loss: 1.1978 - val_loss: 1.1353 - lr: 0.0010 - 187s/epoch - 716ms/step\n",
            "Epoch 30/200\n",
            "262/262 - 183s - loss: 1.1945 - val_loss: 1.1332 - lr: 0.0010 - 183s/epoch - 699ms/step\n",
            "Epoch 31/200\n",
            "262/262 - 183s - loss: 1.1962 - val_loss: 1.1314 - lr: 0.0010 - 183s/epoch - 700ms/step\n",
            "Epoch 32/200\n",
            "262/262 - 184s - loss: 1.1948 - val_loss: 1.1333 - lr: 0.0010 - 184s/epoch - 704ms/step\n",
            "Epoch 33/200\n",
            "262/262 - 190s - loss: 1.1929 - val_loss: 1.1299 - lr: 0.0010 - 190s/epoch - 726ms/step\n",
            "Epoch 34/200\n",
            "262/262 - 198s - loss: 1.1895 - val_loss: 1.1260 - lr: 0.0010 - 198s/epoch - 755ms/step\n",
            "Epoch 35/200\n",
            "262/262 - 202s - loss: 1.1919 - val_loss: 1.1259 - lr: 0.0010 - 202s/epoch - 770ms/step\n",
            "Epoch 36/200\n",
            "262/262 - 203s - loss: 1.1856 - val_loss: 1.1245 - lr: 0.0010 - 203s/epoch - 773ms/step\n",
            "Epoch 37/200\n",
            "262/262 - 195s - loss: 1.1825 - val_loss: 1.1267 - lr: 0.0010 - 195s/epoch - 744ms/step\n",
            "Epoch 38/200\n",
            "\n",
            "Epoch 38: ReduceLROnPlateau reducing learning rate to 0.00010000000474974513.\n",
            "262/262 - 186s - loss: 1.1826 - val_loss: 1.1269 - lr: 0.0010 - 186s/epoch - 708ms/step\n",
            "Epoch 39/200\n",
            "262/262 - 188s - loss: 1.1801 - val_loss: 1.1202 - lr: 1.0000e-04 - 188s/epoch - 716ms/step\n",
            "Epoch 40/200\n",
            "262/262 - 185s - loss: 1.1803 - val_loss: 1.1211 - lr: 1.0000e-04 - 185s/epoch - 706ms/step\n",
            "Epoch 41/200\n",
            "262/262 - 182s - loss: 1.1769 - val_loss: 1.1193 - lr: 1.0000e-04 - 182s/epoch - 695ms/step\n",
            "Epoch 42/200\n",
            "262/262 - 182s - loss: 1.1726 - val_loss: 1.1195 - lr: 1.0000e-04 - 182s/epoch - 696ms/step\n",
            "Epoch 43/200\n",
            "262/262 - 182s - loss: 1.1716 - val_loss: 1.1186 - lr: 1.0000e-04 - 182s/epoch - 696ms/step\n",
            "Epoch 44/200\n",
            "262/262 - 201s - loss: 1.1761 - val_loss: 1.1190 - lr: 1.0000e-04 - 201s/epoch - 767ms/step\n",
            "Epoch 45/200\n",
            "262/262 - 185s - loss: 1.1751 - val_loss: 1.1183 - lr: 1.0000e-04 - 185s/epoch - 706ms/step\n",
            "Epoch 46/200\n",
            "262/262 - 184s - loss: 1.1753 - val_loss: 1.1175 - lr: 1.0000e-04 - 184s/epoch - 702ms/step\n",
            "Epoch 47/200\n",
            "262/262 - 182s - loss: 1.1738 - val_loss: 1.1183 - lr: 1.0000e-04 - 182s/epoch - 694ms/step\n",
            "Epoch 48/200\n",
            "\n",
            "Epoch 48: ReduceLROnPlateau reducing learning rate to 1.0000000474974514e-05.\n",
            "262/262 - 184s - loss: 1.1715 - val_loss: 1.1196 - lr: 1.0000e-04 - 184s/epoch - 702ms/step\n",
            "Epoch 49/200\n",
            "262/262 - 184s - loss: 1.1790 - val_loss: 1.1186 - lr: 1.0000e-05 - 184s/epoch - 704ms/step\n",
            "Epoch 50/200\n",
            "\n",
            "Epoch 50: ReduceLROnPlateau reducing learning rate to 1.0000000656873453e-06.\n",
            "262/262 - 183s - loss: 1.1753 - val_loss: 1.1177 - lr: 1.0000e-05 - 183s/epoch - 699ms/step\n",
            "Epoch 51/200\n",
            "262/262 - 201s - loss: 1.1723 - val_loss: 1.1179 - lr: 1.0000e-06 - 201s/epoch - 766ms/step\n",
            "Epoch 52/200\n",
            "\n",
            "Epoch 52: ReduceLROnPlateau reducing learning rate to 1.0000001111620805e-07.\n",
            "262/262 - 183s - loss: 1.1776 - val_loss: 1.1179 - lr: 1.0000e-06 - 183s/epoch - 698ms/step\n",
            "Epoch 53/200\n",
            "262/262 - 185s - loss: 1.1715 - val_loss: 1.1180 - lr: 1.0000e-07 - 185s/epoch - 707ms/step\n",
            "Epoch 54/200\n",
            "\n",
            "Epoch 54: ReduceLROnPlateau reducing learning rate to 1.000000082740371e-08.\n",
            "262/262 - 191s - loss: 1.1766 - val_loss: 1.1178 - lr: 1.0000e-07 - 191s/epoch - 729ms/step\n",
            "Epoch 55/200\n",
            "262/262 - 187s - loss: 1.1759 - val_loss: 1.1179 - lr: 1.0000e-08 - 187s/epoch - 714ms/step\n",
            "Epoch 56/200\n",
            "\n",
            "Epoch 56: ReduceLROnPlateau reducing learning rate to 1.000000082740371e-09.\n",
            "262/262 - 181s - loss: 1.1754 - val_loss: 1.1179 - lr: 1.0000e-08 - 181s/epoch - 692ms/step\n",
            "Epoch 56: early stopping\n"
          ]
        }
      ]
    },
    {
      "cell_type": "code",
      "source": [
        "# plot training history\n",
        "plt.plot(history.history['loss'])\n",
        "plt.plot(history.history['val_loss'])\n",
        "plt.yscale('log')\n",
        "plt.title('Training History')\n",
        "plt.ylabel('loss')\n",
        "plt.xlabel('epoch')\n",
        "plt.legend(['training', 'validation'], loc='upper right')\n",
        "plt.show()"
      ],
      "metadata": {
        "id": "3MNZKwailY7g",
        "colab": {
          "base_uri": "https://localhost:8080/"
        },
        "outputId": "f1d19bec-8d27-492e-ae5c-38e2a908e23b"
      },
      "execution_count": null,
      "outputs": [
        {
          "output_type": "display_data",
          "data": {
            "text/plain": [
              "<Figure size 432x288 with 1 Axes>"
            ],
            "image/png": "[encoded data removed]"
          },
          "metadata": {
            "needs_background": "light"
          }
        }
      ]
    },
    {
      "cell_type": "markdown",
      "source": [
        "Building The ROC curves"
      ],
      "metadata": {
        "id": "SHo3IgPClgDh"
      }
    },
    {
      "cell_type": "code",
      "source": [
        "labels = ['gluon', 'quark', 'W', 'Z', 'top']\n",
        "import pandas as pd\n",
        "from sklearn.metrics import roc_curve, auc\n",
        "predict_val = model.predict(X_val)\n",
        "df = pd.DataFrame()\n",
        "fpr = {}\n",
        "tpr = {}\n",
        "auc1 = {}\n",
        "\n",
        "plt.figure()\n",
        "for i, label in enumerate(labels):\n",
        "        df[label] = y_val[:,i]\n",
        "        df[label + '_pred'] = predict_val[:,i]\n",
        "\n",
        "        fpr[label], tpr[label], threshold = roc_curve(df[label],df[label+'_pred'])\n",
        "\n",
        "        auc1[label] = auc(fpr[label], tpr[label])\n",
        "\n",
        "        plt.plot(tpr[label],fpr[label],label='%s tagger, auc = %.1f%%'%(label,auc1[label]*100.))\n",
        "plt.semilogy()\n",
        "plt.xlabel(\"sig. efficiency\")\n",
        "plt.ylabel(\"bkg. mistag rate\")\n",
        "plt.ylim(0.000001,1)\n",
        "plt.grid(True)\n",
        "plt.legend(loc='lower right')\n",
        "plt.show()"
      ],
      "metadata": {
        "id": "AJnWC2WRlaL5",
        "colab": {
          "base_uri": "https://localhost:8080/",
          "height": 285
        },
        "outputId": "fbd530bc-06d3-4756-d90c-335b5f3f31cd"
      },
      "execution_count": null,
      "outputs": [
        {
          "output_type": "display_data",
          "data": {
            "text/plain": [
              "<Figure size 432x288 with 1 Axes>"
            ],
            "image/png": "[encoded data removed]"
          },
          "metadata": {
            "needs_background": "light"
          }
        }
      ]
    }
  ]
}