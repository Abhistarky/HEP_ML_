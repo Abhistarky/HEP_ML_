{
  "nbformat": 4,
  "nbformat_minor": 0,
  "metadata": {
    "colab": {
      "name": "DNN Neural Network_for jet_tagging.ipynb",
      "provenance": [],
      "collapsed_sections": []
    },
    "kernelspec": {
      "name": "python3",
      "display_name": "Python 3"
    },
    "language_info": {
      "name": "python"
    }
  },
  "cells": [
    {
      "cell_type": "code",
      "execution_count": 1,
      "metadata": {
        "id": "SaTbfEtU3rtg"
      },
      "outputs": [],
      "source": [
        "import h5py\n",
        "import numpy as np\n",
        "import matplotlib.pyplot as plt\n",
        "%matplotlib inline"
      ]
    },
    {
      "cell_type": "code",
      "source": [
        "! git clone https://github.com/pierinim/tutorials.git\n",
        "! ls tutorials/Data/JetDataset"
      ],
      "metadata": {
        "colab": {
          "base_uri": "https://localhost:8080/"
        },
        "id": "rubMsZWhWal_",
        "outputId": "1cbde842-fc73-4b4c-86b7-10c28daaad49"
      },
      "execution_count": 2,
      "outputs": [
        {
          "output_type": "stream",
          "name": "stdout",
          "text": [
            "fatal: destination path 'tutorials' already exists and is not an empty directory.\n",
            "jetImage_7_100p_0_10000.h5\tjetImage_7_100p_50000_60000.h5\n",
            "jetImage_7_100p_10000_20000.h5\tjetImage_7_100p_60000_70000.h5\n",
            "jetImage_7_100p_30000_40000.h5\tjetImage_7_100p_70000_80000.h5\n",
            "jetImage_7_100p_40000_50000.h5\tjetImage_7_100p_80000_90000.h5\n"
          ]
        }
      ]
    },
    {
      "cell_type": "markdown",
      "source": [
        "Declaring the taget and features for the dataset."
      ],
      "metadata": {
        "id": "4xQgFkCEadhq"
      }
    },
    {
      "cell_type": "code",
      "source": [
        "target = np.array([])\n",
        "features = np.array([])\n",
        "#we will take few files instead of all the data\n",
        "datafiles = ['tutorials/Data/JetDataset/jetImage_7_100p_30000_40000.h5',\n",
        "           'tutorials/Data/JetDataset/jetImage_7_100p_60000_70000.h5',\n",
        "            'tutorials/Data/JetDataset/jetImage_7_100p_50000_60000.h5',\n",
        "            'tutorials/Data/JetDataset/jetImage_7_100p_10000_20000.h5',\n",
        "            'tutorials/Data/JetDataset/jetImage_7_100p_0_10000.h5']\n",
        "for fileIN in datafiles:\n",
        "  print(\"Appending %s\" %fileIN)\n",
        "  f= h5py.File(fileIN)\n",
        "  myFeatures = np.array(f.get('jets')[:, [12, 34, 35, 36, 37, 38, 39, 40, 41, 42, 43, 44, 45, 46, 48, 52]])\n",
        "  myTarget = np.array(f.get(\"jets\")[0:,-6:-1])\n",
        "  features = np.concatenate([features,myFeatures],axis = 0)if features.size else myFeatures\n",
        "  target = np.concatenate([target,myTarget])if target.size else myTarget\n",
        "  f.close()\n",
        "print(target.shape, features.shape)\n"
      ],
      "metadata": {
        "colab": {
          "base_uri": "https://localhost:8080/"
        },
        "id": "ptcbelrOaWAa",
        "outputId": "b1b0bcaf-9c35-41a9-9e3a-308c5847ae70"
      },
      "execution_count": 3,
      "outputs": [
        {
          "output_type": "stream",
          "name": "stdout",
          "text": [
            "Appending tutorials/Data/JetDataset/jetImage_7_100p_30000_40000.h5\n",
            "Appending tutorials/Data/JetDataset/jetImage_7_100p_60000_70000.h5\n",
            "Appending tutorials/Data/JetDataset/jetImage_7_100p_50000_60000.h5\n",
            "Appending tutorials/Data/JetDataset/jetImage_7_100p_10000_20000.h5\n",
            "Appending tutorials/Data/JetDataset/jetImage_7_100p_0_10000.h5\n",
            "(50000, 5) (50000, 16)\n"
          ]
        }
      ]
    },
    {
      "cell_type": "markdown",
      "source": [
        "so the dataset consists of 5000 jets each represented by 16 features."
      ],
      "metadata": {
        "id": "cLf_jVkpcrsg"
      }
    },
    {
      "cell_type": "markdown",
      "source": [
        "now we will train the dataset for our dense neural network"
      ],
      "metadata": {
        "id": "e4KnRKnLc4Ug"
      }
    },
    {
      "cell_type": "code",
      "source": [
        "from sklearn.model_selection import train_test_split\n",
        "X_train, X_val, Y_train, Y_val = train_test_split(features, target, test_size = 0.33)\n",
        "print(X_train.shape, X_val.shape, Y_train.shape, Y_val.shape)\n",
        "del features, target"
      ],
      "metadata": {
        "colab": {
          "base_uri": "https://localhost:8080/"
        },
        "id": "4VbNObv4cXWT",
        "outputId": "84ce2ec8-8ce4-4e6f-e455-d3d7bcde3659"
      },
      "execution_count": 4,
      "outputs": [
        {
          "output_type": "stream",
          "name": "stdout",
          "text": [
            "(33500, 16) (16500, 16) (33500, 5) (16500, 5)\n"
          ]
        }
      ]
    },
    {
      "cell_type": "markdown",
      "source": [
        "(X_train.shape, X_val.shape, Y_train.shape, Y_val.shape"
      ],
      "metadata": {
        "id": "ERw2a_p9dnTP"
      }
    },
    {
      "cell_type": "markdown",
      "source": [
        "#DENSE NEURAL NETWORK MODEL BUILDING"
      ],
      "metadata": {
        "id": "KU8N0P_odpy_"
      }
    },
    {
      "cell_type": "code",
      "source": [
        "from tensorflow.keras.models import Model\n",
        "from tensorflow.keras.layers import Dense, Input, Dropout, Flatten, Activation\n",
        "from tensorflow.keras.utils import plot_model\n",
        "from tensorflow.keras import backend as K\n",
        "from tensorflow.keras import metrics\n",
        "from tensorflow.keras.callbacks import EarlyStopping, ReduceLROnPlateau, TerminateOnNaN"
      ],
      "metadata": {
        "id": "Tbsfx0Zldcdu"
      },
      "execution_count": 5,
      "outputs": []
    },
    {
      "cell_type": "code",
      "source": [
        "input_shape = X_train.shape[1]\n",
        "dropoutRate = 0.25"
      ],
      "metadata": {
        "id": "OgaMKtI1dvwo"
      },
      "execution_count": 6,
      "outputs": []
    },
    {
      "cell_type": "code",
      "source": [
        "inputArray = Input(shape=(input_shape,))\n",
        "#\n",
        "x = Dense(30, activation='relu')(inputArray)\n",
        "x = Dropout(dropoutRate)(x)\n",
        "#\n",
        "x = Dense(25)(x)\n",
        "x = Activation('relu')(x)\n",
        "x = Dropout(dropoutRate)(x)\n",
        "#\n",
        "x = Dense(10, activation='relu')(x)\n",
        "x = Dropout(dropoutRate)(x)\n",
        "#\n",
        "x = Dense(5, activation='relu')(x)\n",
        "#\n",
        "output = Dense(5, activation='softmax')(x)\n",
        "####\n",
        "model = Model(inputs=inputArray, outputs=output)"
      ],
      "metadata": {
        "id": "i81ZMlZPdyTm"
      },
      "execution_count": 7,
      "outputs": []
    },
    {
      "cell_type": "code",
      "source": [
        "model.compile(loss='categorical_crossentropy', optimizer='adam')\n",
        "model.summary()"
      ],
      "metadata": {
        "colab": {
          "base_uri": "https://localhost:8080/"
        },
        "id": "TwlbqA49d5Z-",
        "outputId": "3a99f286-ec32-4ea3-8c48-bca39694e251"
      },
      "execution_count": 8,
      "outputs": [
        {
          "output_type": "stream",
          "name": "stdout",
          "text": [
            "Model: \"model\"\n",
            "_________________________________________________________________\n",
            " Layer (type)                Output Shape              Param #   \n",
            "=================================================================\n",
            " input_1 (InputLayer)        [(None, 16)]              0         \n",
            "                                                                 \n",
            " dense (Dense)               (None, 30)                510       \n",
            "                                                                 \n",
            " dropout (Dropout)           (None, 30)                0         \n",
            "                                                                 \n",
            " dense_1 (Dense)             (None, 25)                775       \n",
            "                                                                 \n",
            " activation (Activation)     (None, 25)                0         \n",
            "                                                                 \n",
            " dropout_1 (Dropout)         (None, 25)                0         \n",
            "                                                                 \n",
            " dense_2 (Dense)             (None, 10)                260       \n",
            "                                                                 \n",
            " dropout_2 (Dropout)         (None, 10)                0         \n",
            "                                                                 \n",
            " dense_3 (Dense)             (None, 5)                 55        \n",
            "                                                                 \n",
            " dense_4 (Dense)             (None, 5)                 30        \n",
            "                                                                 \n",
            "=================================================================\n",
            "Total params: 1,630\n",
            "Trainable params: 1,630\n",
            "Non-trainable params: 0\n",
            "_________________________________________________________________\n"
          ]
        }
      ]
    },
    {
      "cell_type": "markdown",
      "source": [
        "LET's train the model"
      ],
      "metadata": {
        "id": "G8yVP0hId8u9"
      }
    },
    {
      "cell_type": "code",
      "source": [
        "batch_size = 128\n",
        "n_epochs = 50\n",
        "history = model.fit(X_train, Y_train, epochs=n_epochs, batch_size=batch_size, verbose = 2,\n",
        "                validation_data=(X_val, Y_val),\n",
        "                callbacks = [\n",
        "                EarlyStopping(monitor='val_loss', patience=10, verbose=1),\n",
        "                ReduceLROnPlateau(monitor='val_loss', factor=0.1, patience=2, verbose=1),\n",
        "                TerminateOnNaN()])"
      ],
      "metadata": {
        "colab": {
          "base_uri": "https://localhost:8080/"
        },
        "id": "gkCgMdl5d7wu",
        "outputId": "70e8a88d-fd44-47f8-d5b8-60dda103e895"
      },
      "execution_count": 9,
      "outputs": [
        {
          "output_type": "stream",
          "name": "stdout",
          "text": [
            "Epoch 1/50\n",
            "262/262 - 1s - loss: 2.3668 - val_loss: 1.6125 - lr: 0.0010 - 1s/epoch - 4ms/step\n",
            "Epoch 2/50\n",
            "262/262 - 1s - loss: 1.6278 - val_loss: 1.5203 - lr: 0.0010 - 1s/epoch - 4ms/step\n",
            "Epoch 3/50\n",
            "262/262 - 1s - loss: 1.5448 - val_loss: 1.4759 - lr: 0.0010 - 1s/epoch - 4ms/step\n",
            "Epoch 4/50\n",
            "262/262 - 1s - loss: 1.5036 - val_loss: 1.4502 - lr: 0.0010 - 962ms/epoch - 4ms/step\n",
            "Epoch 5/50\n",
            "262/262 - 1s - loss: 1.4780 - val_loss: 1.4343 - lr: 0.0010 - 1s/epoch - 4ms/step\n",
            "Epoch 6/50\n",
            "262/262 - 1s - loss: 1.4608 - val_loss: 1.4227 - lr: 0.0010 - 1s/epoch - 4ms/step\n",
            "Epoch 7/50\n",
            "262/262 - 2s - loss: 1.4472 - val_loss: 1.4161 - lr: 0.0010 - 2s/epoch - 6ms/step\n",
            "Epoch 8/50\n",
            "262/262 - 1s - loss: 1.4389 - val_loss: 1.4158 - lr: 0.0010 - 943ms/epoch - 4ms/step\n",
            "Epoch 9/50\n",
            "262/262 - 1s - loss: 1.4293 - val_loss: 1.4084 - lr: 0.0010 - 974ms/epoch - 4ms/step\n",
            "Epoch 10/50\n",
            "262/262 - 1s - loss: 1.4210 - val_loss: 1.4118 - lr: 0.0010 - 1s/epoch - 5ms/step\n",
            "Epoch 11/50\n",
            "262/262 - 1s - loss: 1.4171 - val_loss: 1.4065 - lr: 0.0010 - 978ms/epoch - 4ms/step\n",
            "Epoch 12/50\n",
            "262/262 - 1s - loss: 1.4125 - val_loss: 1.4064 - lr: 0.0010 - 990ms/epoch - 4ms/step\n",
            "Epoch 13/50\n",
            "262/262 - 1s - loss: 1.4079 - val_loss: 1.4032 - lr: 0.0010 - 978ms/epoch - 4ms/step\n",
            "Epoch 14/50\n",
            "262/262 - 1s - loss: 1.4050 - val_loss: 1.4086 - lr: 0.0010 - 1s/epoch - 5ms/step\n",
            "Epoch 15/50\n",
            "262/262 - 1s - loss: 1.4015 - val_loss: 1.4030 - lr: 0.0010 - 1s/epoch - 4ms/step\n",
            "Epoch 16/50\n",
            "262/262 - 1s - loss: 1.4013 - val_loss: 1.4028 - lr: 0.0010 - 1s/epoch - 5ms/step\n",
            "Epoch 17/50\n",
            "262/262 - 2s - loss: 1.3975 - val_loss: 1.3976 - lr: 0.0010 - 2s/epoch - 6ms/step\n",
            "Epoch 18/50\n",
            "262/262 - 1s - loss: 1.3965 - val_loss: 1.3979 - lr: 0.0010 - 679ms/epoch - 3ms/step\n",
            "Epoch 19/50\n",
            "262/262 - 1s - loss: 1.3941 - val_loss: 1.3946 - lr: 0.0010 - 532ms/epoch - 2ms/step\n",
            "Epoch 20/50\n",
            "262/262 - 1s - loss: 1.3935 - val_loss: 1.3971 - lr: 0.0010 - 547ms/epoch - 2ms/step\n",
            "Epoch 21/50\n",
            "262/262 - 1s - loss: 1.3927 - val_loss: 1.3920 - lr: 0.0010 - 516ms/epoch - 2ms/step\n",
            "Epoch 22/50\n",
            "262/262 - 1s - loss: 1.3894 - val_loss: 1.3952 - lr: 0.0010 - 524ms/epoch - 2ms/step\n",
            "Epoch 23/50\n",
            "262/262 - 1s - loss: 1.3881 - val_loss: 1.3862 - lr: 0.0010 - 544ms/epoch - 2ms/step\n",
            "Epoch 24/50\n",
            "262/262 - 1s - loss: 1.3712 - val_loss: 1.3704 - lr: 0.0010 - 526ms/epoch - 2ms/step\n",
            "Epoch 25/50\n",
            "262/262 - 1s - loss: 1.3518 - val_loss: 1.3385 - lr: 0.0010 - 543ms/epoch - 2ms/step\n",
            "Epoch 26/50\n",
            "262/262 - 1s - loss: 1.3350 - val_loss: 1.3380 - lr: 0.0010 - 538ms/epoch - 2ms/step\n",
            "Epoch 27/50\n",
            "262/262 - 0s - loss: 1.2952 - val_loss: 1.2284 - lr: 0.0010 - 473ms/epoch - 2ms/step\n",
            "Epoch 28/50\n",
            "262/262 - 1s - loss: 1.2428 - val_loss: 1.1881 - lr: 0.0010 - 598ms/epoch - 2ms/step\n",
            "Epoch 29/50\n",
            "262/262 - 0s - loss: 1.2028 - val_loss: 1.1533 - lr: 0.0010 - 477ms/epoch - 2ms/step\n",
            "Epoch 30/50\n",
            "262/262 - 0s - loss: 1.1693 - val_loss: 1.1177 - lr: 0.0010 - 500ms/epoch - 2ms/step\n",
            "Epoch 31/50\n",
            "262/262 - 1s - loss: 1.1481 - val_loss: 1.1097 - lr: 0.0010 - 527ms/epoch - 2ms/step\n",
            "Epoch 32/50\n",
            "262/262 - 1s - loss: 1.1333 - val_loss: 1.0683 - lr: 0.0010 - 518ms/epoch - 2ms/step\n",
            "Epoch 33/50\n",
            "262/262 - 0s - loss: 1.1152 - val_loss: 1.0678 - lr: 0.0010 - 483ms/epoch - 2ms/step\n",
            "Epoch 34/50\n",
            "262/262 - 1s - loss: 1.1107 - val_loss: 1.0583 - lr: 0.0010 - 529ms/epoch - 2ms/step\n",
            "Epoch 35/50\n",
            "262/262 - 0s - loss: 1.1001 - val_loss: 1.0572 - lr: 0.0010 - 483ms/epoch - 2ms/step\n",
            "Epoch 36/50\n",
            "262/262 - 0s - loss: 1.0972 - val_loss: 1.0487 - lr: 0.0010 - 497ms/epoch - 2ms/step\n",
            "Epoch 37/50\n",
            "262/262 - 0s - loss: 1.0893 - val_loss: 1.0444 - lr: 0.0010 - 467ms/epoch - 2ms/step\n",
            "Epoch 38/50\n",
            "262/262 - 0s - loss: 1.0783 - val_loss: 1.0301 - lr: 0.0010 - 481ms/epoch - 2ms/step\n",
            "Epoch 39/50\n",
            "262/262 - 1s - loss: 1.0783 - val_loss: 1.0597 - lr: 0.0010 - 514ms/epoch - 2ms/step\n",
            "Epoch 40/50\n",
            "\n",
            "Epoch 40: ReduceLROnPlateau reducing learning rate to 0.00010000000474974513.\n",
            "262/262 - 1s - loss: 1.0745 - val_loss: 1.0430 - lr: 0.0010 - 520ms/epoch - 2ms/step\n",
            "Epoch 41/50\n",
            "262/262 - 0s - loss: 1.0711 - val_loss: 1.0387 - lr: 1.0000e-04 - 474ms/epoch - 2ms/step\n",
            "Epoch 42/50\n",
            "\n",
            "Epoch 42: ReduceLROnPlateau reducing learning rate to 1.0000000474974514e-05.\n",
            "262/262 - 1s - loss: 1.0661 - val_loss: 1.0373 - lr: 1.0000e-04 - 533ms/epoch - 2ms/step\n",
            "Epoch 43/50\n",
            "262/262 - 0s - loss: 1.0658 - val_loss: 1.0405 - lr: 1.0000e-05 - 481ms/epoch - 2ms/step\n",
            "Epoch 44/50\n",
            "\n",
            "Epoch 44: ReduceLROnPlateau reducing learning rate to 1.0000000656873453e-06.\n",
            "262/262 - 1s - loss: 1.0650 - val_loss: 1.0401 - lr: 1.0000e-05 - 544ms/epoch - 2ms/step\n",
            "Epoch 45/50\n",
            "262/262 - 0s - loss: 1.0657 - val_loss: 1.0398 - lr: 1.0000e-06 - 484ms/epoch - 2ms/step\n",
            "Epoch 46/50\n",
            "\n",
            "Epoch 46: ReduceLROnPlateau reducing learning rate to 1.0000001111620805e-07.\n",
            "262/262 - 1s - loss: 1.0650 - val_loss: 1.0399 - lr: 1.0000e-06 - 545ms/epoch - 2ms/step\n",
            "Epoch 47/50\n",
            "262/262 - 0s - loss: 1.0637 - val_loss: 1.0398 - lr: 1.0000e-07 - 483ms/epoch - 2ms/step\n",
            "Epoch 48/50\n",
            "\n",
            "Epoch 48: ReduceLROnPlateau reducing learning rate to 1.000000082740371e-08.\n",
            "262/262 - 0s - loss: 1.0616 - val_loss: 1.0399 - lr: 1.0000e-07 - 494ms/epoch - 2ms/step\n",
            "Epoch 48: early stopping\n"
          ]
        }
      ]
    },
    {
      "cell_type": "markdown",
      "source": [
        "plotting the training Hoistory"
      ],
      "metadata": {
        "id": "nP75Tu1-eJRm"
      }
    },
    {
      "cell_type": "code",
      "source": [
        "# plot training history\n",
        "plt.plot(history.history['loss'])\n",
        "plt.plot(history.history['val_loss'])\n",
        "plt.yscale('log')\n",
        "plt.title('Training History')\n",
        "plt.ylabel('loss')\n",
        "plt.xlabel('epoch')\n",
        "plt.legend(['training', 'validation'], loc='upper right')\n",
        "plt.show()"
      ],
      "metadata": {
        "colab": {
          "base_uri": "https://localhost:8080/",
          "height": 295
        },
        "id": "Jfzftnt5eCe9",
        "outputId": "b11ce77a-836a-4bf2-bf3d-35663777e92f"
      },
      "execution_count": 10,
      "outputs": [
        {
          "output_type": "display_data",
          "data": {
            "text/plain": [
              "<Figure size 432x288 with 1 Axes>"
            ],
            "image/png": "[encoded data removed]"
          },
          "metadata": {
            "needs_background": "light"
          }
        }
      ]
    },
    {
      "cell_type": "markdown",
      "source": [
        "LET's build the ROC curves"
      ],
      "metadata": {
        "id": "n0J8ASxxeRUn"
      }
    },
    {
      "cell_type": "code",
      "source": [
        "labels = ['gluon', 'quark', 'W', 'Z', 'top']\n",
        "import pandas as pd\n",
        "from sklearn.metrics import roc_curve, auc\n",
        "predict_val = model.predict(X_val)\n",
        "df = pd.DataFrame()\n",
        "fpr = {}\n",
        "tpr = {}\n",
        "auc1 = {}\n",
        "\n",
        "plt.figure()\n",
        "for i, label in enumerate(labels):\n",
        "        df[label] = Y_val[:,i]\n",
        "        df[label + '_pred'] = predict_val[:,i]\n",
        "\n",
        "        fpr[label], tpr[label], threshold = roc_curve(df[label],df[label+'_pred'])\n",
        "\n",
        "        auc1[label] = auc(fpr[label], tpr[label])\n",
        "\n",
        "        plt.plot(tpr[label],fpr[label],label='%s tagger, auc = %.1f%%'%(label,auc1[label]*100.))\n",
        "plt.semilogy()\n",
        "plt.xlabel(\"sig. efficiency\")\n",
        "plt.ylabel(\"bkg. mistag rate\")\n",
        "plt.ylim(0.000001,1)\n",
        "plt.grid(True)\n",
        "plt.legend(loc='lower right')\n",
        "plt.show()"
      ],
      "metadata": {
        "colab": {
          "base_uri": "https://localhost:8080/",
          "height": 285
        },
        "id": "Se_MgjGmeLx1",
        "outputId": "6f1a76cd-46fd-4e72-8caa-35935b57de6a"
      },
      "execution_count": 11,
      "outputs": [
        {
          "output_type": "display_data",
          "data": {
            "text/plain": [
              "<Figure size 432x288 with 1 Axes>"
            ],
            "image/png": "[encoded data removed]"
          },
          "metadata": {
            "needs_background": "light"
          }
        }
      ]
    },
    {
      "cell_type": "code",
      "source": [
        ""
      ],
      "metadata": {
        "id": "clWKq-iuePx3"
      },
      "execution_count": 11,
      "outputs": []
    }
  ]
}