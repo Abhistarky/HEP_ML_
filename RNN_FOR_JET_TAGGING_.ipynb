{
  "nbformat": 4,
  "nbformat_minor": 0,
  "metadata": {
    "colab": {
      "name": "RNN FOR JET TAGGING.ipynb",
      "provenance": []
    },
    "kernelspec": {
      "name": "python3",
      "display_name": "Python 3"
    },
    "language_info": {
      "name": "python"
    },
    "accelerator": "GPU",
    "gpuClass": "standard"
  },
  "cells": [
    {
      "cell_type": "code",
      "execution_count": null,
      "metadata": {
        "id": "-2e5fu5UWB2b"
      },
      "outputs": [],
      "source": [
        "import os\n",
        "import h5py\n",
        "import glob\n",
        "import numpy as np\n",
        "import matplotlib.pyplot as plt\n",
        "%matplotlib inline"
      ]
    },
    {
      "cell_type": "code",
      "source": [
        "! git clone https://github.com/pierinim/tutorials.git\n",
        "! ls tutorials/Data/JetDataset/\n"
      ],
      "metadata": {
        "colab": {
          "base_uri": "https://localhost:8080/"
        },
        "id": "Oz9FEKI4YC1Z",
        "outputId": "79a5bfcc-a6ee-43a9-9a24-1dc939424922"
      },
      "execution_count": null,
      "outputs": [
        {
          "output_type": "stream",
          "name": "stdout",
          "text": [
            "Cloning into 'tutorials'...\n",
            "remote: Enumerating objects: 668, done.\u001b[K\n",
            "remote: Counting objects: 100% (89/89), done.\u001b[K\n",
            "remote: Compressing objects: 100% (59/59), done.\u001b[K\n",
            "remote: Total 668 (delta 47), reused 71 (delta 29), pack-reused 579\u001b[K\n",
            "Receiving objects: 100% (668/668), 550.21 MiB | 39.46 MiB/s, done.\n",
            "Resolving deltas: 100% (249/249), done.\n",
            "Checking out files: 100% (62/62), done.\n",
            "jetImage_7_100p_0_10000.h5\tjetImage_7_100p_50000_60000.h5\n",
            "jetImage_7_100p_10000_20000.h5\tjetImage_7_100p_60000_70000.h5\n",
            "jetImage_7_100p_30000_40000.h5\tjetImage_7_100p_70000_80000.h5\n",
            "jetImage_7_100p_40000_50000.h5\tjetImage_7_100p_80000_90000.h5\n"
          ]
        }
      ]
    },
    {
      "cell_type": "code",
      "source": [
        "target = np.array([])\n",
        "jetList = np.array([])\n",
        "datafiles =  ['tutorials/Data/JetDataset/jetImage_7_100p_30000_40000.h5',\n",
        "           'tutorials/Data/JetDataset/jetImage_7_100p_60000_70000.h5',\n",
        "            'tutorials/Data/JetDataset/jetImage_7_100p_50000_60000.h5',\n",
        "            'tutorials/Data/JetDataset/jetImage_7_100p_10000_20000.h5',\n",
        "            'tutorials/Data/JetDataset/jetImage_7_100p_0_10000.h5']\n",
        "for fileIN in datafiles:\n",
        "  print(\"Appending %s\" %fileIN)\n",
        "  f = h5py.File(fileIN)\n",
        "  myJetList = np.array(f.get(\"jetConstituentList\"))\n",
        "  mytarget = np.array(f.get('jets')[0: ,-6:-1])\n",
        "  jetList = np.concatenate([jetList,myJetList], axis =0) if jetList.size else myJetList\n",
        "  target = np.concatenate([target,mytarget], axis = 0) if target.size else mytarget\n",
        "  del myJetList, mytarget\n",
        "  f.close()\n",
        "print(target.shape,jetList.shape)  \n"
      ],
      "metadata": {
        "colab": {
          "base_uri": "https://localhost:8080/"
        },
        "id": "ff4khcEWYIDR",
        "outputId": "3b370dae-330a-4c04-feb3-e4dbbcb4ba28"
      },
      "execution_count": null,
      "outputs": [
        {
          "output_type": "stream",
          "name": "stdout",
          "text": [
            "Appending tutorials/Data/JetDataset/jetImage_7_100p_30000_40000.h5\n",
            "Appending tutorials/Data/JetDataset/jetImage_7_100p_60000_70000.h5\n",
            "Appending tutorials/Data/JetDataset/jetImage_7_100p_50000_60000.h5\n",
            "Appending tutorials/Data/JetDataset/jetImage_7_100p_10000_20000.h5\n",
            "Appending tutorials/Data/JetDataset/jetImage_7_100p_0_10000.h5\n",
            "(50000, 5) (50000, 100, 16)\n"
          ]
        }
      ]
    },
    {
      "cell_type": "code",
      "source": [
        "from sklearn.model_selection import train_test_split\n",
        "X_train, X_val, y_train, y_val = train_test_split(jetList, target, test_size=0.33)\n",
        "print(X_train.shape, X_val.shape, y_train.shape, y_val.shape)\n",
        "del jetList, target"
      ],
      "metadata": {
        "colab": {
          "base_uri": "https://localhost:8080/"
        },
        "id": "8bkHKR4BZjty",
        "outputId": "c10cd0af-465a-4f57-de25-1c3f752da452"
      },
      "execution_count": null,
      "outputs": [
        {
          "output_type": "stream",
          "name": "stdout",
          "text": [
            "(33500, 100, 16) (16500, 100, 16) (33500, 5) (16500, 5)\n"
          ]
        }
      ]
    },
    {
      "cell_type": "code",
      "source": [
        "# keras imports\n",
        "from tensorflow.keras.models import Model\n",
        "from tensorflow.keras.layers import Dense, Input, GRU, Dropout\n",
        "from tensorflow.keras.utils import plot_model\n",
        "from tensorflow.keras import backend as K\n",
        "from tensorflow.keras import metrics\n",
        "from tensorflow.keras.callbacks import EarlyStopping, ReduceLROnPlateau, TerminateOnNaN"
      ],
      "metadata": {
        "id": "vu1I3qjeaI1G"
      },
      "execution_count": null,
      "outputs": []
    },
    {
      "cell_type": "code",
      "source": [
        "featureArrayLength = (X_train.shape[1],X_train.shape[2])\n",
        "dropoutRate = 0.25"
      ],
      "metadata": {
        "id": "pFSufx1ZaLh3"
      },
      "execution_count": null,
      "outputs": []
    },
    {
      "cell_type": "code",
      "source": [
        "inputList = Input(shape=(featureArrayLength))\n",
        "x=GRU(40,activation=\"tanh\", recurrent_activation='sigmoid')(inputList)\n",
        "x=Dropout(dropoutRate)(x)\n",
        "#\n",
        "x=Dense(20,activation='relu')(x)\n",
        "x=Dropout(dropoutRate)(x)\n",
        "#\n",
        "x=Dense(10,activation='relu')(x)\n",
        "x=Dropout(dropoutRate)(x)\n",
        "x=Dense(5,activation='relu')(x)\n",
        "#\n",
        "output = Dense(5,activation ='softmax')(x)\n",
        "####\n",
        "model =Model(inputs= inputList, outputs=output)\n"
      ],
      "metadata": {
        "id": "3mkMa0jvaXb2"
      },
      "execution_count": null,
      "outputs": []
    },
    {
      "cell_type": "code",
      "source": [
        "model.compile(loss='categorical_crossentropy', optimizer='adam')\n",
        "model.summary()"
      ],
      "metadata": {
        "colab": {
          "base_uri": "https://localhost:8080/"
        },
        "id": "SmEjsAllbWfq",
        "outputId": "520b68c8-55cc-46b8-d531-dffbb2c0e5ba"
      },
      "execution_count": null,
      "outputs": [
        {
          "output_type": "stream",
          "name": "stdout",
          "text": [
            "Model: \"model\"\n",
            "_________________________________________________________________\n",
            " Layer (type)                Output Shape              Param #   \n",
            "=================================================================\n",
            " input_4 (InputLayer)        [(None, 100, 16)]         0         \n",
            "                                                                 \n",
            " gru_3 (GRU)                 (None, 40)                6960      \n",
            "                                                                 \n",
            " dropout_5 (Dropout)         (None, 40)                0         \n",
            "                                                                 \n",
            " dense_6 (Dense)             (None, 20)                820       \n",
            "                                                                 \n",
            " dropout_6 (Dropout)         (None, 20)                0         \n",
            "                                                                 \n",
            " dense_7 (Dense)             (None, 10)                210       \n",
            "                                                                 \n",
            " dropout_7 (Dropout)         (None, 10)                0         \n",
            "                                                                 \n",
            " dense_8 (Dense)             (None, 5)                 55        \n",
            "                                                                 \n",
            " dense_9 (Dense)             (None, 5)                 30        \n",
            "                                                                 \n",
            "=================================================================\n",
            "Total params: 8,075\n",
            "Trainable params: 8,075\n",
            "Non-trainable params: 0\n",
            "_________________________________________________________________\n"
          ]
        }
      ]
    },
    {
      "cell_type": "code",
      "source": [
        "batch_size= 128\n",
        "n_epochs = 200"
      ],
      "metadata": {
        "id": "ax3knrA6btxR"
      },
      "execution_count": null,
      "outputs": []
    },
    {
      "cell_type": "code",
      "source": [
        "# train \n",
        "history = model.fit(X_train, y_train, epochs=n_epochs, batch_size=batch_size, verbose = 2,\n",
        "                validation_data=(X_val, y_val),\n",
        "                callbacks = [\n",
        "                EarlyStopping(monitor='val_loss', patience=10, verbose=1),\n",
        "                ReduceLROnPlateau(monitor='val_loss', factor=0.1, patience=2, verbose=1),\n",
        "                TerminateOnNaN()])"
      ],
      "metadata": {
        "colab": {
          "base_uri": "https://localhost:8080/"
        },
        "id": "hIHSMBbnb_tX",
        "outputId": "5c2cc014-7faa-4f98-9e1c-f342d2fe23f8"
      },
      "execution_count": null,
      "outputs": [
        {
          "output_type": "stream",
          "name": "stdout",
          "text": [
            "Epoch 1/200\n",
            "262/262 - 10s - loss: 1.5328 - val_loss: 1.4068 - lr: 0.0010 - 10s/epoch - 37ms/step\n",
            "Epoch 2/200\n",
            "262/262 - 4s - loss: 1.3950 - val_loss: 1.3894 - lr: 0.0010 - 4s/epoch - 14ms/step\n",
            "Epoch 3/200\n",
            "262/262 - 3s - loss: 1.3752 - val_loss: 1.3492 - lr: 0.0010 - 3s/epoch - 10ms/step\n",
            "Epoch 4/200\n",
            "262/262 - 2s - loss: 1.3596 - val_loss: 1.3517 - lr: 0.0010 - 2s/epoch - 8ms/step\n",
            "Epoch 5/200\n",
            "262/262 - 3s - loss: 1.3451 - val_loss: 1.3330 - lr: 0.0010 - 3s/epoch - 10ms/step\n",
            "Epoch 6/200\n",
            "262/262 - 2s - loss: 1.3369 - val_loss: 1.3234 - lr: 0.0010 - 2s/epoch - 8ms/step\n",
            "Epoch 7/200\n",
            "262/262 - 2s - loss: 1.3228 - val_loss: 1.3136 - lr: 0.0010 - 2s/epoch - 8ms/step\n",
            "Epoch 8/200\n",
            "262/262 - 2s - loss: 1.3189 - val_loss: 1.3126 - lr: 0.0010 - 2s/epoch - 8ms/step\n",
            "Epoch 9/200\n",
            "262/262 - 2s - loss: 1.3129 - val_loss: 1.3078 - lr: 0.0010 - 2s/epoch - 8ms/step\n",
            "Epoch 10/200\n",
            "262/262 - 2s - loss: 1.3068 - val_loss: 1.3125 - lr: 0.0010 - 2s/epoch - 8ms/step\n",
            "Epoch 11/200\n",
            "262/262 - 2s - loss: 1.3030 - val_loss: 1.2999 - lr: 0.0010 - 2s/epoch - 9ms/step\n",
            "Epoch 12/200\n",
            "262/262 - 2s - loss: 1.2993 - val_loss: 1.2960 - lr: 0.0010 - 2s/epoch - 8ms/step\n",
            "Epoch 13/200\n",
            "262/262 - 2s - loss: 1.2969 - val_loss: 1.3067 - lr: 0.0010 - 2s/epoch - 8ms/step\n",
            "Epoch 14/200\n",
            "\n",
            "Epoch 14: ReduceLROnPlateau reducing learning rate to 0.00010000000474974513.\n",
            "262/262 - 2s - loss: 1.2961 - val_loss: 1.2978 - lr: 0.0010 - 2s/epoch - 8ms/step\n",
            "Epoch 15/200\n",
            "262/262 - 2s - loss: 1.2858 - val_loss: 1.2917 - lr: 1.0000e-04 - 2s/epoch - 9ms/step\n",
            "Epoch 16/200\n",
            "262/262 - 3s - loss: 1.2833 - val_loss: 1.2903 - lr: 1.0000e-04 - 3s/epoch - 13ms/step\n",
            "Epoch 17/200\n",
            "262/262 - 3s - loss: 1.2832 - val_loss: 1.2904 - lr: 1.0000e-04 - 3s/epoch - 13ms/step\n",
            "Epoch 18/200\n",
            "\n",
            "Epoch 18: ReduceLROnPlateau reducing learning rate to 1.0000000474974514e-05.\n",
            "262/262 - 3s - loss: 1.2811 - val_loss: 1.2915 - lr: 1.0000e-04 - 3s/epoch - 12ms/step\n",
            "Epoch 19/200\n",
            "262/262 - 2s - loss: 1.2810 - val_loss: 1.2908 - lr: 1.0000e-05 - 2s/epoch - 8ms/step\n",
            "Epoch 20/200\n",
            "\n",
            "Epoch 20: ReduceLROnPlateau reducing learning rate to 1.0000000656873453e-06.\n",
            "262/262 - 2s - loss: 1.2811 - val_loss: 1.2911 - lr: 1.0000e-05 - 2s/epoch - 8ms/step\n",
            "Epoch 21/200\n",
            "262/262 - 2s - loss: 1.2808 - val_loss: 1.2909 - lr: 1.0000e-06 - 2s/epoch - 8ms/step\n",
            "Epoch 22/200\n",
            "\n",
            "Epoch 22: ReduceLROnPlateau reducing learning rate to 1.0000001111620805e-07.\n",
            "262/262 - 2s - loss: 1.2804 - val_loss: 1.2907 - lr: 1.0000e-06 - 2s/epoch - 8ms/step\n",
            "Epoch 23/200\n",
            "262/262 - 2s - loss: 1.2805 - val_loss: 1.2907 - lr: 1.0000e-07 - 2s/epoch - 8ms/step\n",
            "Epoch 24/200\n",
            "\n",
            "Epoch 24: ReduceLROnPlateau reducing learning rate to 1.000000082740371e-08.\n",
            "262/262 - 3s - loss: 1.2785 - val_loss: 1.2907 - lr: 1.0000e-07 - 3s/epoch - 12ms/step\n",
            "Epoch 25/200\n",
            "262/262 - 3s - loss: 1.2802 - val_loss: 1.2907 - lr: 1.0000e-08 - 3s/epoch - 13ms/step\n",
            "Epoch 26/200\n",
            "\n",
            "Epoch 26: ReduceLROnPlateau reducing learning rate to 1.000000082740371e-09.\n",
            "262/262 - 3s - loss: 1.2802 - val_loss: 1.2907 - lr: 1.0000e-08 - 3s/epoch - 13ms/step\n",
            "Epoch 26: early stopping\n"
          ]
        }
      ]
    },
    {
      "cell_type": "code",
      "source": [
        "# plot training history\n",
        "plt.plot(history.history['loss'])\n",
        "plt.plot(history.history['val_loss'])\n",
        "plt.yscale('log')\n",
        "plt.title('Training History')\n",
        "plt.ylabel('loss')\n",
        "plt.xlabel('epoch')\n",
        "plt.legend(['training', 'validation'], loc='upper right')\n",
        "plt.show()"
      ],
      "metadata": {
        "colab": {
          "base_uri": "https://localhost:8080/",
          "height": 295
        },
        "id": "gNYkoM7vcgaZ",
        "outputId": "3aec93af-d7e8-43d4-d46b-4cd8522cdb0e"
      },
      "execution_count": null,
      "outputs": [
        {
          "output_type": "display_data",
          "data": {
            "text/plain": [
              "<Figure size 432x288 with 1 Axes>"
            ],
            "image/png": "[encoded data removed]"
          },
          "metadata": {
            "needs_background": "light"
          }
        }
      ]
    },
    {
      "cell_type": "code",
      "source": [
        "labels = ['gluon', 'quark', 'W', 'Z', 'top']"
      ],
      "metadata": {
        "id": "nBxYqMXPckhU"
      },
      "execution_count": null,
      "outputs": []
    },
    {
      "cell_type": "code",
      "source": [
        "import pandas as pd\n",
        "from sklearn.metrics import roc_curve, auc\n",
        "predict_val = model.predict(X_val)\n",
        "df = pd.DataFrame()\n",
        "fpr = {}\n",
        "tpr = {}\n",
        "auc1 = {}\n",
        "\n",
        "plt.figure()\n",
        "for i, label in enumerate(labels):\n",
        "        df[label] = y_val[:,i]\n",
        "        df[label + '_pred'] = predict_val[:,i]\n",
        "\n",
        "        fpr[label], tpr[label], threshold = roc_curve(df[label],df[label+'_pred'])\n",
        "\n",
        "        auc1[label] = auc(fpr[label], tpr[label])\n",
        "\n",
        "        plt.plot(tpr[label],fpr[label],label='%s tagger, auc = %.1f%%'%(label,auc1[label]*100.))\n",
        "plt.semilogy()\n",
        "plt.xlabel(\"sig. efficiency\")\n",
        "plt.ylabel(\"bkg. mistag rate\")\n",
        "plt.ylim(0.00001,1)\n",
        "plt.grid(True)\n",
        "plt.legend(loc='lower right')\n",
        "plt.show()"
      ],
      "metadata": {
        "colab": {
          "base_uri": "https://localhost:8080/",
          "height": 285
        },
        "id": "Nc9Gh9Vmct11",
        "outputId": "1e4d21c2-a304-4766-d8fb-679c931ebf52"
      },
      "execution_count": null,
      "outputs": [
        {
          "output_type": "display_data",
          "data": {
            "text/plain": [
              "<Figure size 432x288 with 1 Axes>"
            ],
            "image/png": "[encoded data removed]"
          },
          "metadata": {
            "needs_background": "light"
          }
        }
      ]
    },
    {
      "cell_type": "code",
      "source": [
        ""
      ],
      "metadata": {
        "id": "3Ve0SqBWcyHF"
      },
      "execution_count": null,
      "outputs": []
    }
  ]
}